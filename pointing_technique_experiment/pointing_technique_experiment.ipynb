{
 "cells": [
  {
   "cell_type": "markdown",
   "id": "loved-depression",
   "metadata": {},
   "source": [
    "# Pointing Experiment"
   ]
  },
  {
   "cell_type": "markdown",
   "id": "funky-russia",
   "metadata": {},
   "source": [
    "## Testdesign"
   ]
  },
  {
   "cell_type": "markdown",
   "id": "humanitarian-subject",
   "metadata": {},
   "source": [
    "In our study we want to implement an experiment about pointing devices. For this, we have developed a hypothesis that we want to either confirm or reject through our experiment. Our hypothesis is, that completion time and errors increase if the user is exposed to multiple visual stimuli. In our case, the different stimuli are different colors and geometric shapes among which the subject has to find the right one.\n",
    " Therefore we have developed three conditions with different levels of difficulty:\n",
    " \n",
    "    1. Circles of different sizes are displayed on the screen. One circle is blue, the test person has to click on it as fast as possible.\n",
    "    \n",
    "    2. Circles of different sizes and colors are displayed on the screen. One circle is blue, the test person has to click on it as fast as possible.\n",
    "    \n",
    "    3. Varying geometric shapes of different sizes and colors are displayed on the screen. One circle is blue, the test person has to click on it as fast as possible.\n",
    "    \n",
    "Each object is clickable, the participants have to click on the right one, otherwise it would be an error. Each condition is repeated five times, so that there are 15 rounds in total and in a counter-balanced order. \n",
    "In addition we also implemented an improved pointing technique. Therefore our second hypothesis is, that participants who use the improved pointing technique should complete the task faster.\n",
    "\n",
    "### Participants\n",
    "\n",
    "To conduct a good study our participants should be as diverse as possible to avoid biased results. Due to limited resources, this study is only conducted by two female participants, both of whom have good computer skills. This should be taken into account in the results and in studies based on them.\n",
    "\n",
    "### Setup\n",
    "\n",
    "In order to create a comparable setup, this was discussed and determined before conducting the study. We used a Laptop with a screen size of 13 inches and a mouse as the pointing device. The participants are seated in a closed room to minimize disturbing influences such as noise or dazzling light.\n",
    "\n",
    "### Variables\n",
    "\n",
    "Two independent variables were defined for the study, which also resulted in two dependent variables. The independent variables are the color and the shape of the objects and the dependent variables the reaction time and the error.\n",
    "We also have five controlled variables which are the pointing device (mouse), screen resolution, screen size, screen position, environment. As previously said, we determined the setup before to minimize their influence.\n"
   ]
  },
  {
   "cell_type": "markdown",
   "id": "eastern-boards",
   "metadata": {},
   "source": [
    "## Import packages"
   ]
  },
  {
   "cell_type": "code",
   "execution_count": null,
   "id": "entitled-interaction",
   "metadata": {},
   "outputs": [],
   "source": [
    "import pandas as pd\n",
    "import matplotlib\n",
    "from matplotlib import pyplot as plt\n",
    "from scipy import stats\n",
    "import numpy as np"
   ]
  },
  {
   "cell_type": "markdown",
   "id": "prostate-malaysia",
   "metadata": {},
   "source": [
    "## Import csv and grouping of data"
   ]
  },
  {
   "cell_type": "code",
   "execution_count": null,
   "id": "disabled-radical",
   "metadata": {},
   "outputs": [],
   "source": [
    "# import csv data\n",
    "df_data1 = pd.read_csv('data1.csv')\n",
    "df_data2 = pd.read_csv('data2.csv')\n",
    "df_data3 = pd.read_csv('data3.csv')\n",
    "df_data4 = pd.read_csv('data4.csv')\n",
    "df_data5 = pd.read_csv('data5.csv')\n",
    "df_data6 = pd.read_csv('data6.csv')\n",
    "df_data7 = pd.read_csv('data7.csv')\n",
    "df_data8 = pd.read_csv('data8.csv')"
   ]
  },
  {
   "cell_type": "code",
   "execution_count": null,
   "id": "athletic-possession",
   "metadata": {},
   "outputs": [],
   "source": [
    "# grouping csv data in one document\n",
    "df_pointing_experiment = pd.concat([df_data1, df_data2, df_data3, df_data4, df_data5, df_data6, df_data7, df_data8], ignore_index= True)"
   ]
  },
  {
   "cell_type": "code",
   "execution_count": null,
   "id": "superior-uncle",
   "metadata": {},
   "outputs": [],
   "source": [
    "# group csv data per condition\n",
    "df_cond1 = df_pointing_experiment[df_pointing_experiment['condition'] == 1]\n",
    "df_cond2 = df_pointing_experiment[df_pointing_experiment['condition'] == 2]\n",
    "df_cond3 = df_pointing_experiment[df_pointing_experiment['condition'] == 3]"
   ]
  },
  {
   "cell_type": "code",
   "execution_count": null,
   "id": "supported-temperature",
   "metadata": {},
   "outputs": [],
   "source": [
    "# group csv data if improvement is true or false\n",
    "df_impr_true = df_pointing_experiment[df_pointing_experiment['improvement'] == True]\n",
    "df_impr_false = df_pointing_experiment[df_pointing_experiment['improvement'] == False]"
   ]
  },
  {
   "cell_type": "markdown",
   "id": "small-moderator",
   "metadata": {},
   "source": [
    "## Evaluation"
   ]
  },
  {
   "cell_type": "markdown",
   "id": "pressing-memory",
   "metadata": {},
   "source": [
    "### Completion time per condition without improvement\n"
   ]
  },
  {
   "cell_type": "code",
   "execution_count": null,
   "id": "military-server",
   "metadata": {},
   "outputs": [],
   "source": [
    "cond1_impr_false = df_cond1['completion_time (ms)'][df_cond1['improvement'] == False]\n",
    "cond2_impr_false = df_cond2['completion_time (ms)'][df_cond2['improvement'] == False]\n",
    "cond3_impr_false = df_cond3['completion_time (ms)'][df_cond3['improvement'] == False]"
   ]
  },
  {
   "cell_type": "code",
   "execution_count": null,
   "id": "cooked-estimate",
   "metadata": {},
   "outputs": [],
   "source": [
    "plt.boxplot([cond1_impr_false, cond2_impr_false, cond3_impr_false])\n",
    "plt.title('Completion time per condition without improvement')\n",
    "plt.xlabel('conditions')\n",
    "plt.ylabel('completion time in ms')\n",
    "plt.savefig('time_per_cond_without_improv.pdf')"
   ]
  },
  {
   "cell_type": "markdown",
   "id": "nasty-antarctica",
   "metadata": {},
   "source": [
    "### Completion time per condition and user without improvement"
   ]
  },
  {
   "cell_type": "code",
   "execution_count": null,
   "id": "patient-bidding",
   "metadata": {},
   "outputs": [],
   "source": [
    "cond_user1_false = df_impr_false['condition'][df_impr_false['user_id'] == 1]\n",
    "cond_user1_time_false = df_impr_false['completion_time (ms)'][df_impr_false['user_id'] == 1]\n",
    "cond_user2_false = df_impr_false['condition'][df_impr_false['user_id'] == 2]\n",
    "cond_user2_time_false= df_impr_false['completion_time (ms)'][df_impr_false['user_id'] == 2]\n",
    "cond_user3_false = df_impr_false['condition'][df_impr_false['user_id'] == 3]\n",
    "cond_user3_time_false = df_impr_false['completion_time (ms)'][df_impr_false['user_id'] == 3]\n",
    "cond_user4_false = df_impr_false['condition'][df_impr_false['user_id'] == 4]\n",
    "cond_user4_time_false = df_impr_false['completion_time (ms)'][df_impr_false['user_id'] == 4]"
   ]
  },
  {
   "cell_type": "code",
   "execution_count": null,
   "id": "innovative-hearing",
   "metadata": {},
   "outputs": [],
   "source": [
    "plt.scatter(cond_user1_false, cond_user1_time_false, label='user1')\n",
    "plt.scatter(cond_user2_false, cond_user2_time_false, label='user2')\n",
    "plt.scatter(cond_user3_false, cond_user3_time_false, label='user3')\n",
    "plt.scatter(cond_user4_false, cond_user4_time_false, label='user4')\n",
    "plt.legend(loc=0)\n",
    "plt.title('Completion time per condition and per user without improvement')\n",
    "plt.xlabel('conditions')\n",
    "plt.ylabel('completion time in ms')\n",
    "plt.xticks([1, 2, 3], [1, 2, 3])\n",
    "plt.xlim(0.5, 3.5)\n",
    "plt.savefig('time_per_cond_and_user_without_improv.pdf')"
   ]
  },
  {
   "cell_type": "markdown",
   "id": "burning-marine",
   "metadata": {},
   "source": [
    "### Errors per condition without improvement"
   ]
  },
  {
   "cell_type": "code",
   "execution_count": null,
   "id": "mighty-shopping",
   "metadata": {},
   "outputs": [],
   "source": [
    "err_cond = [1, 2, 3]\n",
    "cond1_false = df_impr_false['error'][df_impr_false['condition'] == 1][df_impr_false['error'] == False].count() \n",
    "cond1_true = df_impr_false['error'][df_impr_false['condition'] == 1][df_impr_false['error'] == True].count()\n",
    "cond2_false = df_impr_false['error'][df_impr_false['condition'] == 2][df_impr_false['error'] == False].count()\n",
    "cond2_true = df_impr_false['error'][df_impr_false['condition'] == 2][df_impr_false['error'] == True].count()\n",
    "cond3_false = df_impr_false['error'][df_impr_false['condition'] == 3][df_impr_false['error'] == False].count()\n",
    "cond3_true = df_impr_false['error'][df_impr_false['condition'] == 3][df_impr_false['error'] == True].count()"
   ]
  },
  {
   "cell_type": "code",
   "execution_count": null,
   "id": "closed-seating",
   "metadata": {
    "scrolled": true
   },
   "outputs": [],
   "source": [
    "plt.bar(err_cond, (cond1_false, cond2_false, cond3_false), label='error')\n",
    "plt.bar(err_cond, (cond1_true, cond2_true , cond3_true), bottom=(cond1_false, cond2_false, cond3_false), label='no error')\n",
    "plt.title('Error per condition without improvement')\n",
    "plt.xlabel('conditions')\n",
    "plt.ylabel('errors')\n",
    "plt.legend()\n",
    "plt.xticks([1, 2, 3], [1, 2, 3])\n",
    "plt.xlim(0.5, 3.5)\n",
    "plt.savefig('error_per_cond_without_improv.pdf')"
   ]
  },
  {
   "cell_type": "markdown",
   "id": "favorite-match",
   "metadata": {},
   "source": [
    "### Error per condition and per user without improvement"
   ]
  },
  {
   "cell_type": "code",
   "execution_count": null,
   "id": "korean-question",
   "metadata": {},
   "outputs": [],
   "source": [
    "cond1_user1_false = df_impr_false['error'][df_impr_false['condition'] == 1][df_impr_false['error'] == False][df_impr_false['user_id'] == 1].count() \n",
    "cond1_user1_true = df_impr_false['error'][df_impr_false['condition'] == 1][df_impr_false['error'] == True][df_impr_false['user_id'] == 1].count()\n",
    "cond1_user2_false = df_impr_false['error'][df_impr_false['condition'] == 1][df_impr_false['error'] == False][df_impr_false['user_id'] == 2].count() \n",
    "cond1_user2_true = df_impr_false['error'][df_impr_false['condition'] == 1][df_impr_false['error'] == True][df_impr_false['user_id'] == 2].count()\n",
    "cond1_user3_false = df_impr_false['error'][df_impr_false['condition'] == 1][df_impr_false['error'] == False][df_impr_false['user_id'] == 3].count() \n",
    "cond1_user3_true = df_impr_false['error'][df_impr_false['condition'] == 1][df_impr_false['error'] == True][df_impr_false['user_id'] == 3].count()\n",
    "cond1_user4_false = df_impr_false['error'][df_impr_false['condition'] == 1][df_impr_false['error'] == False][df_impr_false['user_id'] == 4].count() \n",
    "cond1_user4_true = df_impr_false['error'][df_impr_false['condition'] == 1][df_impr_false['error'] == True][df_impr_false['user_id'] == 4].count()\n",
    "cond2_user1_false = df_impr_false['error'][df_impr_false['condition'] == 2][df_impr_false['error'] == False][df_impr_false['user_id'] == 1].count() \n",
    "cond2_user1_true = df_impr_false['error'][df_impr_false['condition'] == 2][df_impr_false['error'] == True][df_impr_false['user_id'] == 1].count()\n",
    "cond2_user2_false = df_impr_false['error'][df_impr_false['condition'] == 2][df_impr_false['error'] == False][df_impr_false['user_id'] == 2].count() \n",
    "cond2_user2_true = df_impr_false['error'][df_impr_false['condition'] == 2][df_impr_false['error'] == True][df_impr_false['user_id'] == 2].count()\n",
    "cond2_user3_false = df_impr_false['error'][df_impr_false['condition'] == 2][df_impr_false['error'] == False][df_impr_false['user_id'] == 3].count() \n",
    "cond2_user3_true = df_impr_false['error'][df_impr_false['condition'] == 2][df_impr_false['error'] == True][df_impr_false['user_id'] == 3].count()\n",
    "cond2_user4_false = df_impr_false['error'][df_impr_false['condition'] == 2][df_impr_false['error'] == False][df_impr_false['user_id'] == 4].count() \n",
    "cond2_user4_true = df_impr_false['error'][df_impr_false['condition'] == 2][df_impr_false['error'] == True][df_impr_false['user_id'] == 4].count()\n",
    "cond3_user1_false = df_impr_false['error'][df_impr_false['condition'] == 3][df_impr_false['error'] == False][df_impr_false['user_id'] == 1].count() \n",
    "cond3_user1_true = df_impr_false['error'][df_impr_false['condition'] == 3][df_impr_false['error'] == True][df_impr_false['user_id'] == 1].count()\n",
    "cond3_user2_false = df_impr_false['error'][df_impr_false['condition'] == 3][df_impr_false['error'] == False][df_impr_false['user_id'] == 2].count() \n",
    "cond3_user2_true = df_impr_false['error'][df_impr_false['condition'] == 3][df_impr_false['error'] == True][df_impr_false['user_id'] == 2].count()\n",
    "cond3_user3_false = df_impr_false['error'][df_impr_false['condition'] == 3][df_impr_false['error'] == False][df_impr_false['user_id'] == 3].count() \n",
    "cond3_user3_true = df_impr_false['error'][df_impr_false['condition'] == 3][df_impr_false['error'] == True][df_impr_false['user_id'] == 3].count()\n",
    "cond3_user4_false = df_impr_false['error'][df_impr_false['condition'] == 3][df_impr_false['error'] == False][df_impr_false['user_id'] == 4].count() \n",
    "cond3_user4_true = df_impr_false['error'][df_impr_false['condition'] == 3][df_impr_false['error'] == True][df_impr_false['user_id'] == 4].count()"
   ]
  },
  {
   "cell_type": "code",
   "execution_count": null,
   "id": "perceived-heritage",
   "metadata": {},
   "outputs": [],
   "source": [
    "x  = np.arange(3)\n",
    "plt.title('Error per condition and user without improvement')\n",
    "width = 0.2\n",
    "\n",
    "user1_false = plt.bar(x - 0.3, (cond1_user1_false, cond2_user1_false, cond3_user1_false), width, color='C0', \n",
    "                      edgecolor='#000000', label='error')\n",
    "user1_true = plt.bar(x - 0.3, (cond1_user1_true, cond2_user1_true, cond3_user1_true), width, color='C1', \n",
    "                     edgecolor='#000000', bottom= (cond1_user1_false, cond2_user1_false, cond3_user1_false), label='user 1')\n",
    "\n",
    "user2_false = plt.bar(x - 0.1, (cond1_user2_false, cond2_user2_false, cond3_user2_false), width, color='C0',\n",
    "                      edgecolor='#000000', hatch='////')\n",
    "user2_true = plt.bar(x - 0.1, (cond1_user2_true, cond2_user2_true, cond3_user2_true), width, color='C1', \n",
    "                     edgecolor='#000000', hatch='////', bottom=(cond1_user2_false, cond2_user2_false, cond3_user2_false), label=\"user 2\")\n",
    "\n",
    "user3_false = plt.bar(x + 0.1, (cond1_user3_false, cond2_user3_false, cond3_user3_false), width, color='C0',\n",
    "                      edgecolor='#000000', hatch='\\\\\\\\')\n",
    "user3_true = plt.bar(x + 0.1, (cond1_user3_true, cond2_user3_true, cond3_user3_true), width, color='C1', \n",
    "                     edgecolor='#000000', hatch='\\\\\\\\', bottom=(cond1_user3_false, cond2_user3_false, cond3_user3_false), label='user 3')\n",
    "\n",
    "user4_false = plt.bar(x + 0.3, (cond1_user4_false, cond2_user4_false, cond3_user4_false), width, color='C0',\n",
    "                      edgecolor='#000000', hatch='--')\n",
    "user4_true = plt.bar(x + 0.3, (cond1_user4_true, cond2_user4_true, cond3_user4_true), width, color='C1', \n",
    "                     edgecolor='#000000', hatch='--', bottom= (cond1_user4_false, cond2_user4_false, cond3_user4_false), label='user 4')\n",
    "\n",
    "plt.xlabel('conditions')\n",
    "plt.xticks(x, ['1', '2', '3'])\n",
    "plt.ylabel('errors')\n",
    "\n",
    "# from the official matplotlib legend guide: https://matplotlib.org/stable/tutorials/intermediate/legend_guide.html\n",
    "\n",
    "first_legend = plt.legend(handles=[user1_true, user2_true, user3_true, user4_true], loc=2)\n",
    "\n",
    "# Add the legend manually to the current Axes.\n",
    "plt.gca().add_artist(first_legend)\n",
    "\n",
    "# Create another legend for the second line.\n",
    "plt.legend([user1_false, user1_true], ['error', 'no error'])\n",
    "\n",
    "plt.savefig('error_per_cond_and_user_without_improv.pdf')"
   ]
  },
  {
   "cell_type": "markdown",
   "id": "social-tissue",
   "metadata": {},
   "source": [
    "### Completion time per condition with improvement"
   ]
  },
  {
   "cell_type": "code",
   "execution_count": null,
   "id": "threaded-victor",
   "metadata": {},
   "outputs": [],
   "source": [
    "cond1_impr_true = df_cond1['completion_time (ms)'][df_cond1['improvement'] == True]\n",
    "cond2_impr_true = df_cond2['completion_time (ms)'][df_cond2['improvement'] == True]\n",
    "cond3_impr_true = df_cond3['completion_time (ms)'][df_cond3['improvement'] == True]"
   ]
  },
  {
   "cell_type": "code",
   "execution_count": null,
   "id": "curious-trainer",
   "metadata": {},
   "outputs": [],
   "source": [
    "plt.boxplot([cond1_impr_true, cond2_impr_true, cond3_impr_true])\n",
    "plt.title('Completion time per condition with improvement')\n",
    "plt.xlabel('conditions')\n",
    "plt.ylabel('completion time in ms')\n",
    "plt.savefig('time_per_cond_with_improv.pdf')"
   ]
  },
  {
   "cell_type": "markdown",
   "id": "warming-orlando",
   "metadata": {},
   "source": [
    "### Completiontime per condition and user with improvement"
   ]
  },
  {
   "cell_type": "code",
   "execution_count": null,
   "id": "recovered-charger",
   "metadata": {},
   "outputs": [],
   "source": [
    "cond_user1_true = df_impr_true['condition'][df_impr_true['user_id'] == 1]\n",
    "cond_user1_time_true = df_impr_true['completion_time (ms)'][df_impr_true['user_id'] == 1]\n",
    "cond_user2_true = df_impr_true['condition'][df_impr_true['user_id'] == 2]\n",
    "cond_user2_time_true= df_impr_true['completion_time (ms)'][df_impr_true['user_id'] == 2]\n",
    "cond_user3_true = df_impr_true['condition'][df_impr_true['user_id'] == 3]\n",
    "cond_user3_time_true = df_impr_true['completion_time (ms)'][df_impr_true['user_id'] == 3]\n",
    "cond_user4_true = df_impr_true['condition'][df_impr_true['user_id'] == 4]\n",
    "cond_user4_time_true = df_impr_true['completion_time (ms)'][df_impr_true['user_id'] == 4]"
   ]
  },
  {
   "cell_type": "code",
   "execution_count": null,
   "id": "placed-profession",
   "metadata": {},
   "outputs": [],
   "source": [
    "plt.scatter(cond_user1_true, cond_user1_time_true, label='user1')\n",
    "plt.scatter(cond_user2_true, cond_user2_time_true, label='user2')\n",
    "plt.scatter(cond_user3_true, cond_user3_time_true, label='user3')\n",
    "plt.scatter(cond_user4_true, cond_user4_time_true, label='user4')\n",
    "plt.legend(loc=0)\n",
    "plt.title('Completion time per condition and per user with improvement')\n",
    "plt.xlabel('conditions')\n",
    "plt.ylabel('completion time in ms')\n",
    "plt.xticks([1, 2, 3], [1, 2, 3])\n",
    "plt.xlim(0.5, 3.5)\n",
    "plt.savefig('time_per_cond_and_user_with_improv.pdf')"
   ]
  },
  {
   "cell_type": "markdown",
   "id": "wired-island",
   "metadata": {},
   "source": [
    "### Errors per condition with improvement"
   ]
  },
  {
   "cell_type": "code",
   "execution_count": null,
   "id": "regulated-image",
   "metadata": {},
   "outputs": [],
   "source": [
    "err_cond_impr = [1, 2, 3]\n",
    "cond1_false_impr = df_impr_true['error'][df_impr_true['condition'] == 1][df_impr_true['error'] == False].count() \n",
    "cond1_true_impr = df_impr_true['error'][df_impr_true['condition'] == 1][df_impr_true['error'] == True].count()\n",
    "cond2_false_impr = df_impr_true['error'][df_impr_true['condition'] == 2][df_impr_true['error'] == False].count()\n",
    "cond2_true_impr = df_impr_true['error'][df_impr_true['condition'] == 2][df_impr_true['error'] == True].count()\n",
    "cond3_false_impr = df_impr_true['error'][df_impr_true['condition'] == 3][df_impr_true['error'] == False].count()\n",
    "cond3_true_impr = df_impr_true['error'][df_impr_true['condition'] == 3][df_impr_true['error'] == True].count()"
   ]
  },
  {
   "cell_type": "code",
   "execution_count": null,
   "id": "intense-accommodation",
   "metadata": {},
   "outputs": [],
   "source": [
    "plt.bar(err_cond, (cond1_false_impr, cond2_false_impr, cond3_false_impr), label='error')\n",
    "plt.bar(err_cond, (cond1_true_impr, cond2_true_impr, cond3_true_impr), bottom=(cond1_false_impr, cond2_false_impr, cond3_false_impr), label='no error')\n",
    "plt.title('Error per condition with improvement')\n",
    "plt.xlabel('conditions')\n",
    "plt.ylabel('errors')\n",
    "plt.legend()\n",
    "plt.xticks([1, 2, 3], [1, 2, 3])\n",
    "plt.xlim(0.5, 3.5)\n",
    "plt.savefig('error_per_cond_with_improv.pdf')"
   ]
  },
  {
   "cell_type": "markdown",
   "id": "noticed-fundamentals",
   "metadata": {},
   "source": [
    "### Error per condition and user with improvement"
   ]
  },
  {
   "cell_type": "code",
   "execution_count": null,
   "id": "mental-front",
   "metadata": {},
   "outputs": [],
   "source": [
    "cond1_user1_false_impr = df_impr_true['error'][df_impr_true['condition'] == 1][df_impr_true['error'] == False][df_impr_true['user_id'] == 1].count() \n",
    "cond1_user1_true_impr = df_impr_true['error'][df_impr_true['condition'] == 1][df_impr_true['error'] == True][df_impr_true['user_id'] == 1].count()\n",
    "cond1_user2_false_impr = df_impr_true['error'][df_impr_true['condition'] == 1][df_impr_true['error'] == False][df_impr_true['user_id'] == 2].count() \n",
    "cond1_user2_true_impr = df_impr_true['error'][df_impr_true['condition'] == 1][df_impr_true['error'] == True][df_impr_true['user_id'] == 2].count()\n",
    "cond1_user3_false_impr = df_impr_true['error'][df_impr_true['condition'] == 1][df_impr_true['error'] == False][df_impr_true['user_id'] == 3].count() \n",
    "cond1_user3_true_impr = df_impr_true['error'][df_impr_true['condition'] == 1][df_impr_true['error'] == True][df_impr_true['user_id'] == 3].count()\n",
    "cond1_user4_false_impr = df_impr_true['error'][df_impr_true['condition'] == 1][df_impr_true['error'] == False][df_impr_true['user_id'] == 4].count() \n",
    "cond1_user4_true_impr = df_impr_true['error'][df_impr_true['condition'] == 1][df_impr_true['error'] == True][df_impr_true['user_id'] == 4].count()\n",
    "cond2_user1_false_impr = df_impr_true['error'][df_impr_true['condition'] == 2][df_impr_true['error'] == False][df_impr_true['user_id'] == 1].count() \n",
    "cond2_user1_true_impr = df_impr_true['error'][df_impr_true['condition'] == 2][df_impr_true['error'] == True][df_impr_true['user_id'] == 1].count()\n",
    "cond2_user2_false_impr = df_impr_true['error'][df_impr_true['condition'] == 2][df_impr_true['error'] == False][df_impr_true['user_id'] == 2].count() \n",
    "cond2_user2_true_impr = df_impr_true['error'][df_impr_true['condition'] == 2][df_impr_true['error'] == True][df_impr_true['user_id'] == 2].count()\n",
    "cond2_user3_false_impr = df_impr_true['error'][df_impr_true['condition'] == 2][df_impr_true['error'] == False][df_impr_true['user_id'] == 3].count() \n",
    "cond2_user3_true_impr = df_impr_true['error'][df_impr_true['condition'] == 2][df_impr_true['error'] == True][df_impr_true['user_id'] == 3].count()\n",
    "cond2_user4_false_impr = df_impr_true['error'][df_impr_true['condition'] == 2][df_impr_true['error'] == False][df_impr_true['user_id'] == 4].count() \n",
    "cond2_user4_true_impr = df_impr_true['error'][df_impr_true['condition'] == 2][df_impr_true['error'] == True][df_impr_true['user_id'] == 4].count()\n",
    "cond3_user1_false_impr = df_impr_true['error'][df_impr_true['condition'] == 3][df_impr_true['error'] == False][df_impr_true['user_id'] == 1].count() \n",
    "cond3_user1_true_impr = df_impr_true['error'][df_impr_true['condition'] == 3][df_impr_true['error'] == True][df_impr_true['user_id'] == 1].count()\n",
    "cond3_user2_false_impr = df_impr_true['error'][df_impr_true['condition'] == 3][df_impr_true['error'] == False][df_impr_true['user_id'] == 2].count() \n",
    "cond3_user2_true_impr = df_impr_true['error'][df_impr_true['condition'] == 3][df_impr_true['error'] == True][df_impr_true['user_id'] == 2].count()\n",
    "cond3_user3_false_impr = df_impr_true['error'][df_impr_true['condition'] == 3][df_impr_true['error'] == False][df_impr_true['user_id'] == 3].count() \n",
    "cond3_user3_true_impr = df_impr_true['error'][df_impr_true['condition'] == 3][df_impr_true['error'] == True][df_impr_true['user_id'] == 3].count()\n",
    "cond3_user4_false_impr = df_impr_true['error'][df_impr_true['condition'] == 3][df_impr_true['error'] == False][df_impr_true['user_id'] == 4].count() \n",
    "cond3_user4_true_impr = df_impr_true['error'][df_impr_true['condition'] == 3][df_impr_true['error'] == True][df_impr_true['user_id'] == 4].count()"
   ]
  },
  {
   "cell_type": "code",
   "execution_count": null,
   "id": "previous-transfer",
   "metadata": {},
   "outputs": [],
   "source": [
    "x  = np.arange(3)\n",
    "plt.title('Error per condition and user with improvement')\n",
    "width = 0.2\n",
    "\n",
    "user1_false_impr = plt.bar(x - 0.3, (cond1_user1_false_impr, cond2_user1_false_impr, cond3_user1_false_impr), width, color='C0', \n",
    "                      edgecolor='#000000', label='error')\n",
    "user1_true_impr = plt.bar(x - 0.3, (cond1_user1_true_impr, cond2_user1_true_impr, cond3_user1_true_impr), width, color='C1', \n",
    "                     edgecolor='#000000', bottom= (cond1_user1_false_impr, cond2_user1_false_impr, cond3_user1_false_impr), label='user 1')\n",
    "\n",
    "user2_false_impr = plt.bar(x - 0.1, (cond1_user2_false_impr, cond2_user2_false_impr, cond3_user2_false_impr), width, color='C0',\n",
    "                      edgecolor='#000000', hatch='////')\n",
    "user2_true_impr = plt.bar(x - 0.1, (cond1_user2_true_impr, cond2_user2_true_impr, cond3_user2_true_impr), width, color='C1', \n",
    "                     edgecolor='#000000', hatch='////', bottom=(cond1_user2_false_impr, cond2_user2_false_impr, cond3_user2_false_impr), label=\"user 2\")\n",
    "\n",
    "user3_false_impr = plt.bar(x + 0.1, (cond1_user3_false_impr, cond2_user3_false_impr, cond3_user3_false_impr), width, color='C0',\n",
    "                      edgecolor='#000000', hatch='\\\\\\\\')\n",
    "user3_true_impr = plt.bar(x + 0.1, (cond1_user3_true_impr, cond2_user3_true_impr, cond3_user3_true_impr), width, color='C1', \n",
    "                     edgecolor='#000000', hatch='\\\\\\\\', bottom=(cond1_user3_false_impr, cond2_user3_false_impr, cond3_user3_false_impr), label='user 3')\n",
    "\n",
    "user4_false_impr = plt.bar(x + 0.3, (cond1_user4_false_impr, cond2_user4_false_impr, cond3_user4_false_impr), width, color='C0',\n",
    "                      edgecolor='#000000', hatch='--')\n",
    "user4_true_impr = plt.bar(x + 0.3, (cond1_user4_true_impr, cond2_user4_true_impr, cond3_user4_true_impr), width, color='C1', \n",
    "                     edgecolor='#000000', hatch='--', bottom= (cond1_user4_false_impr, cond2_user4_false_impr, cond3_user4_false_impr), label='user 4')\n",
    "\n",
    "plt.xlabel('conditions')\n",
    "plt.xticks(x, ['1', '2', '3'])\n",
    "plt.ylabel('errors')\n",
    "\n",
    "# from the official matplotlib legend guide: https://matplotlib.org/stable/tutorials/intermediate/legend_guide.html\n",
    "\n",
    "first_legend = plt.legend(handles=[user1_true_impr, user2_true_impr, user3_true_impr, user4_true_impr], loc=2)\n",
    "\n",
    "# Add the legend manually to the current Axes.\n",
    "plt.gca().add_artist(first_legend)\n",
    "\n",
    "# Create another legend for the second line.\n",
    "plt.legend([user1_false_impr, user1_true_impr], ['error', 'no error'])\n",
    "\n",
    "plt.savefig('error_per_cond_and user_with_improv.pdf')"
   ]
  },
  {
   "cell_type": "markdown",
   "id": "banned-headline",
   "metadata": {},
   "source": [
    "## Result"
   ]
  },
  {
   "cell_type": "markdown",
   "id": "annoying-chuck",
   "metadata": {},
   "source": [
    "The Results are divided in  two parts, first we want to discuss the results of the standard technique.\n",
    "As one can see in the box plot “Completion time per condition without improvement”, the completion time increased from condition one to three. Due to the few participants none of the results are statistically significant, but one can see that the more demanding conditions with more stimuli have taken more time to complete. This results can also be seen in “Error per condition without improvement” where there are no errors in condition one, one in condition two and three in condition three.\n",
    "We had 4 participants. In “Completion time per condition and user without improvement” one can see that no subject stands out as particularly fast or slow. The completion time is distributed among the subjects and each has an outlier upwards.\n",
    "“Error per condition and user without improvement” shows that, overall, the task was completed without many errors, two participants finished without any errors, user one and four had two. It also shows that three of these errors occurred in the most difficult condition three, one in condition two and none in the easiest condition one. On the whole, for our first hypothesis, completion time and errors increase if the user is exposed to multiple stimuli, can be confirmed with the data obtained in our experiment. The completion time of the users has become slower, the more difficult the conditions were and the errors have increased.\n",
    "\n",
    "The second part of our experiment was performed with an improved pointing technique. For the evaluation of these results, 4 charts were created and in order to allow a later comparison, they were structured in the same way as in the first part.\n",
    "The “Completion time per condition with improvement” also shows an increase of time from condition one to three, the participants took longer to complete condition three than condition one. The box plot for condition two shows a large outlier and is also generally broader than that of the other conditions, but overall  one can place the mean value of the completion time between condition one and two. Also, the results of “Completion time per condition and user with improvement” correspond to those of the first part, no user completed the task particularly quickly, each of the four test subjects have outliers upwards in the conditions. Therefore, no user can be particularly emphasized.\n",
    "Very few mistakes were made as one can see in ”Error per condition with improvement”, with only one error in condition one. Therefore, we see a contrary tendency to our hypothesis, since there are no errors in the difficult conditions. The error was made by participant four, as shown in “Error per condition and user with improvement”. \n",
    "\n",
    "Overall one can see, that all users completed the tasks very well. The results for completion time are very similar, with, as previously mentioned, no user standing out. Errors where only made by users one and four, with two error by user one and three by user four. \n",
    "\n",
    "Our second hypothesis, completion time and errors decrease with the use of the improved pointing technique, can also be accepted with the results of this study. Four out of the five errors were made without the improved pointing technique and only one with it. Also the completion time decreased, without improved pointing technique the mean of condition one, around 1250ms, condition two, around 1600ms and condition three, around 2000ms were slower than with the improved pointing technique with the mean of condition one, around 1500ms, condition two, around 1200ms and condition three, around 1200ms. \n",
    "Therefore we can accept both our hypothesis. But due to the few and biased participants none of the results are statistically significant and to get better results, another study with a broader and more diverse sample of subjects should be conducted"
   ]
  },
  {
   "cell_type": "markdown",
   "id": "steady-pledge",
   "metadata": {},
   "source": [
    "(all work was contributed evenly between the two group members)"
   ]
  }
 ],
 "metadata": {
  "kernelspec": {
   "display_name": "Python 3",
   "language": "python",
   "name": "python3"
  },
  "language_info": {
   "codemirror_mode": {
    "name": "ipython",
    "version": 3
   },
   "file_extension": ".py",
   "mimetype": "text/x-python",
   "name": "python",
   "nbconvert_exporter": "python",
   "pygments_lexer": "ipython3",
   "version": "3.9.2"
  }
 },
 "nbformat": 4,
 "nbformat_minor": 5
}
